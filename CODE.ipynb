{
 "cells": [
  {
   "cell_type": "code",
   "execution_count": 51,
   "metadata": {},
   "outputs": [
    {
     "data": {
      "text/plain": [
       "'/Users/abhilash/Desktop/PHD'"
      ]
     },
     "execution_count": 51,
     "metadata": {},
     "output_type": "execute_result"
    }
   ],
   "source": [
    "import os\n",
    "import pandas as pd\n",
    "\n",
    "os.getcwd()"
   ]
  },
  {
   "cell_type": "code",
   "execution_count": 52,
   "metadata": {
    "collapsed": true
   },
   "outputs": [],
   "source": [
    "os.chdir('/Users/abhilash/Desktop/PHD')"
   ]
  },
  {
   "cell_type": "code",
   "execution_count": 53,
   "metadata": {
    "collapsed": true
   },
   "outputs": [],
   "source": [
    "Engine=pd.read_csv(\"Train.csv\")"
   ]
  },
  {
   "cell_type": "code",
   "execution_count": 54,
   "metadata": {
    "collapsed": true
   },
   "outputs": [],
   "source": [
    "add_data = pd.read_csv(\"Train_AdditionalData.csv\")"
   ]
  },
  {
   "cell_type": "code",
   "execution_count": 55,
   "metadata": {},
   "outputs": [
    {
     "name": "stdout",
     "output_type": "stream",
     "text": [
      "(3156, 22)\n"
     ]
    }
   ],
   "source": [
    "print(Engine.shape)"
   ]
  },
  {
   "cell_type": "code",
   "execution_count": 56,
   "metadata": {},
   "outputs": [
    {
     "data": {
      "text/html": [
       "<div>\n",
       "<style>\n",
       "    .dataframe thead tr:only-child th {\n",
       "        text-align: right;\n",
       "    }\n",
       "\n",
       "    .dataframe thead th {\n",
       "        text-align: left;\n",
       "    }\n",
       "\n",
       "    .dataframe tbody tr th {\n",
       "        vertical-align: top;\n",
       "    }\n",
       "</style>\n",
       "<table border=\"1\" class=\"dataframe\">\n",
       "  <thead>\n",
       "    <tr style=\"text-align: right;\">\n",
       "      <th></th>\n",
       "      <th>TestA</th>\n",
       "      <th>TestB</th>\n",
       "    </tr>\n",
       "  </thead>\n",
       "  <tbody>\n",
       "    <tr>\n",
       "      <th>0</th>\n",
       "      <td>1.0</td>\n",
       "      <td>1</td>\n",
       "    </tr>\n",
       "    <tr>\n",
       "      <th>1</th>\n",
       "      <td>2.0</td>\n",
       "      <td>3</td>\n",
       "    </tr>\n",
       "    <tr>\n",
       "      <th>2</th>\n",
       "      <td>3.0</td>\n",
       "      <td>4</td>\n",
       "    </tr>\n",
       "    <tr>\n",
       "      <th>3</th>\n",
       "      <td>4.0</td>\n",
       "      <td>5</td>\n",
       "    </tr>\n",
       "    <tr>\n",
       "      <th>4</th>\n",
       "      <td>6.0</td>\n",
       "      <td>6</td>\n",
       "    </tr>\n",
       "  </tbody>\n",
       "</table>\n",
       "</div>"
      ],
      "text/plain": [
       "   TestA  TestB\n",
       "0    1.0      1\n",
       "1    2.0      3\n",
       "2    3.0      4\n",
       "3    4.0      5\n",
       "4    6.0      6"
      ]
     },
     "execution_count": 56,
     "metadata": {},
     "output_type": "execute_result"
    }
   ],
   "source": [
    "add_data.head(5)"
   ]
  },
  {
   "cell_type": "code",
   "execution_count": 57,
   "metadata": {},
   "outputs": [
    {
     "name": "stdout",
     "output_type": "stream",
     "text": [
      "ID                               0\n",
      "y                                0\n",
      "Number of Cylinders            158\n",
      "material grade                 158\n",
      "Lubrication                    158\n",
      "Valve Type                     158\n",
      "Bearing Vendor                 158\n",
      "Fuel Type                      158\n",
      "Compression ratio              158\n",
      "cam arrangement                158\n",
      "Cylinder arragement            158\n",
      "Turbocharger                   158\n",
      "Varaible Valve Timing (VVT)    158\n",
      "Cylinder deactivation          158\n",
      "Direct injection               158\n",
      "main bearing type              158\n",
      "displacement                   158\n",
      "piston type                    158\n",
      "Max. Torque                    158\n",
      "Peak Power                     158\n",
      "Crankshaft Design              158\n",
      "Liner Design                   158\n",
      "dtype: int64\n"
     ]
    }
   ],
   "source": [
    "print(Engine.isnull().sum())"
   ]
  },
  {
   "cell_type": "code",
   "execution_count": 58,
   "metadata": {},
   "outputs": [
    {
     "data": {
      "text/html": [
       "<div>\n",
       "<style>\n",
       "    .dataframe thead tr:only-child th {\n",
       "        text-align: right;\n",
       "    }\n",
       "\n",
       "    .dataframe thead th {\n",
       "        text-align: left;\n",
       "    }\n",
       "\n",
       "    .dataframe tbody tr th {\n",
       "        vertical-align: top;\n",
       "    }\n",
       "</style>\n",
       "<table border=\"1\" class=\"dataframe\">\n",
       "  <thead>\n",
       "    <tr style=\"text-align: right;\">\n",
       "      <th></th>\n",
       "      <th>ID</th>\n",
       "      <th>y</th>\n",
       "      <th>Number of Cylinders</th>\n",
       "      <th>material grade</th>\n",
       "      <th>Lubrication</th>\n",
       "      <th>Valve Type</th>\n",
       "      <th>Bearing Vendor</th>\n",
       "      <th>Fuel Type</th>\n",
       "      <th>Compression ratio</th>\n",
       "      <th>cam arrangement</th>\n",
       "      <th>Cylinder arragement</th>\n",
       "      <th>Turbocharger</th>\n",
       "      <th>Varaible Valve Timing (VVT)</th>\n",
       "      <th>Cylinder deactivation</th>\n",
       "      <th>Direct injection</th>\n",
       "      <th>main bearing type</th>\n",
       "      <th>displacement</th>\n",
       "      <th>piston type</th>\n",
       "      <th>Max. Torque</th>\n",
       "      <th>Peak Power</th>\n",
       "      <th>Crankshaft Design</th>\n",
       "      <th>Liner Design</th>\n",
       "    </tr>\n",
       "  </thead>\n",
       "  <tbody>\n",
       "    <tr>\n",
       "      <th>0</th>\n",
       "      <td>1</td>\n",
       "      <td>pass</td>\n",
       "      <td>6.0</td>\n",
       "      <td>a</td>\n",
       "      <td>L4</td>\n",
       "      <td>C</td>\n",
       "      <td>V4</td>\n",
       "      <td>gasoline</td>\n",
       "      <td>low</td>\n",
       "      <td>SOHC</td>\n",
       "      <td>inline</td>\n",
       "      <td>Yes</td>\n",
       "      <td>Yes</td>\n",
       "      <td>No</td>\n",
       "      <td>Yes</td>\n",
       "      <td>Roller</td>\n",
       "      <td>high</td>\n",
       "      <td>linear</td>\n",
       "      <td>high</td>\n",
       "      <td>high</td>\n",
       "      <td>CD2</td>\n",
       "      <td>LD1</td>\n",
       "    </tr>\n",
       "    <tr>\n",
       "      <th>1</th>\n",
       "      <td>2</td>\n",
       "      <td>fail</td>\n",
       "      <td>6.0</td>\n",
       "      <td>b</td>\n",
       "      <td>L4</td>\n",
       "      <td>C</td>\n",
       "      <td>V3</td>\n",
       "      <td>gasoline</td>\n",
       "      <td>high</td>\n",
       "      <td>SOHC</td>\n",
       "      <td>inline</td>\n",
       "      <td>Yes</td>\n",
       "      <td>Yes</td>\n",
       "      <td>No</td>\n",
       "      <td>Yes</td>\n",
       "      <td>Roller</td>\n",
       "      <td>high</td>\n",
       "      <td>linear</td>\n",
       "      <td>high</td>\n",
       "      <td>high</td>\n",
       "      <td>CD1</td>\n",
       "      <td>LD1</td>\n",
       "    </tr>\n",
       "    <tr>\n",
       "      <th>2</th>\n",
       "      <td>3</td>\n",
       "      <td>pass</td>\n",
       "      <td>4.0</td>\n",
       "      <td>NaN</td>\n",
       "      <td>L3</td>\n",
       "      <td>D</td>\n",
       "      <td>V2</td>\n",
       "      <td>gasoline</td>\n",
       "      <td>high</td>\n",
       "      <td>SOHC</td>\n",
       "      <td>inline</td>\n",
       "      <td>Yes</td>\n",
       "      <td>Yes</td>\n",
       "      <td>Yes</td>\n",
       "      <td>Yes</td>\n",
       "      <td>Roller</td>\n",
       "      <td>high</td>\n",
       "      <td>linear</td>\n",
       "      <td>high</td>\n",
       "      <td>high</td>\n",
       "      <td>CD1</td>\n",
       "      <td>LD1</td>\n",
       "    </tr>\n",
       "    <tr>\n",
       "      <th>3</th>\n",
       "      <td>4</td>\n",
       "      <td>pass</td>\n",
       "      <td>4.0</td>\n",
       "      <td>f</td>\n",
       "      <td>L2</td>\n",
       "      <td>D</td>\n",
       "      <td>NaN</td>\n",
       "      <td>gasoline</td>\n",
       "      <td>low</td>\n",
       "      <td>SOHC</td>\n",
       "      <td>inline</td>\n",
       "      <td>Yes</td>\n",
       "      <td>Yes</td>\n",
       "      <td>Yes</td>\n",
       "      <td>Yes</td>\n",
       "      <td>Roller</td>\n",
       "      <td>high</td>\n",
       "      <td>linear</td>\n",
       "      <td>high</td>\n",
       "      <td>high</td>\n",
       "      <td>CD1</td>\n",
       "      <td>LD1</td>\n",
       "    </tr>\n",
       "    <tr>\n",
       "      <th>4</th>\n",
       "      <td>5</td>\n",
       "      <td>fail</td>\n",
       "      <td>8.0</td>\n",
       "      <td>d</td>\n",
       "      <td>L2</td>\n",
       "      <td>NaN</td>\n",
       "      <td>V2</td>\n",
       "      <td>gasoline</td>\n",
       "      <td>high</td>\n",
       "      <td>SOHC</td>\n",
       "      <td>inline</td>\n",
       "      <td>Yes</td>\n",
       "      <td>Yes</td>\n",
       "      <td>No</td>\n",
       "      <td>Yes</td>\n",
       "      <td>Roller</td>\n",
       "      <td>high</td>\n",
       "      <td>linear</td>\n",
       "      <td>high</td>\n",
       "      <td>high</td>\n",
       "      <td>CD1</td>\n",
       "      <td>LD2</td>\n",
       "    </tr>\n",
       "  </tbody>\n",
       "</table>\n",
       "</div>"
      ],
      "text/plain": [
       "   ID     y  Number of Cylinders material grade Lubrication Valve Type  \\\n",
       "0   1  pass                  6.0              a          L4          C   \n",
       "1   2  fail                  6.0              b          L4          C   \n",
       "2   3  pass                  4.0            NaN          L3          D   \n",
       "3   4  pass                  4.0              f          L2          D   \n",
       "4   5  fail                  8.0              d          L2        NaN   \n",
       "\n",
       "  Bearing Vendor Fuel Type Compression ratio cam arrangement  \\\n",
       "0             V4  gasoline               low            SOHC   \n",
       "1             V3  gasoline              high            SOHC   \n",
       "2             V2  gasoline              high            SOHC   \n",
       "3            NaN  gasoline               low            SOHC   \n",
       "4             V2  gasoline              high            SOHC   \n",
       "\n",
       "  Cylinder arragement Turbocharger Varaible Valve Timing (VVT)  \\\n",
       "0              inline          Yes                         Yes   \n",
       "1              inline          Yes                         Yes   \n",
       "2              inline          Yes                         Yes   \n",
       "3              inline          Yes                         Yes   \n",
       "4              inline          Yes                         Yes   \n",
       "\n",
       "  Cylinder deactivation Direct injection main bearing type displacement  \\\n",
       "0                    No              Yes            Roller         high   \n",
       "1                    No              Yes            Roller         high   \n",
       "2                   Yes              Yes            Roller         high   \n",
       "3                   Yes              Yes            Roller         high   \n",
       "4                    No              Yes            Roller         high   \n",
       "\n",
       "  piston type Max. Torque Peak Power Crankshaft Design Liner Design   \n",
       "0      linear        high       high               CD2           LD1  \n",
       "1      linear        high       high               CD1           LD1  \n",
       "2      linear        high       high               CD1           LD1  \n",
       "3      linear        high       high               CD1           LD1  \n",
       "4      linear        high       high               CD1           LD2  "
      ]
     },
     "execution_count": 58,
     "metadata": {},
     "output_type": "execute_result"
    }
   ],
   "source": [
    "Engine.head()"
   ]
  },
  {
   "cell_type": "code",
   "execution_count": 59,
   "metadata": {},
   "outputs": [
    {
     "data": {
      "text/plain": [
       "ID                               int64\n",
       "y                               object\n",
       "Number of Cylinders            float64\n",
       "material grade                  object\n",
       "Lubrication                     object\n",
       "Valve Type                      object\n",
       "Bearing Vendor                  object\n",
       "Fuel Type                       object\n",
       "Compression ratio               object\n",
       "cam arrangement                 object\n",
       "Cylinder arragement             object\n",
       "Turbocharger                    object\n",
       "Varaible Valve Timing (VVT)     object\n",
       "Cylinder deactivation           object\n",
       "Direct injection                object\n",
       "main bearing type               object\n",
       "displacement                    object\n",
       "piston type                     object\n",
       "Max. Torque                     object\n",
       "Peak Power                      object\n",
       "Crankshaft Design               object\n",
       "Liner Design                    object\n",
       "dtype: object"
      ]
     },
     "execution_count": 59,
     "metadata": {},
     "output_type": "execute_result"
    }
   ],
   "source": [
    "Engine.dtypes"
   ]
  },
  {
   "cell_type": "code",
   "execution_count": 60,
   "metadata": {},
   "outputs": [
    {
     "data": {
      "text/plain": [
       "ID                             False\n",
       "y                              False\n",
       "Number of Cylinders            False\n",
       "material grade                 False\n",
       "Lubrication                    False\n",
       "Valve Type                     False\n",
       "Bearing Vendor                 False\n",
       "Fuel Type                      False\n",
       "Compression ratio              False\n",
       "cam arrangement                False\n",
       "Cylinder arragement            False\n",
       "Turbocharger                   False\n",
       "Varaible Valve Timing (VVT)    False\n",
       "Cylinder deactivation          False\n",
       "Direct injection               False\n",
       "main bearing type              False\n",
       "displacement                   False\n",
       "piston type                    False\n",
       "Max. Torque                    False\n",
       "Peak Power                     False\n",
       "Crankshaft Design              False\n",
       "Liner Design                   False\n",
       "dtype: bool"
      ]
     },
     "execution_count": 60,
     "metadata": {},
     "output_type": "execute_result"
    }
   ],
   "source": [
    "Engine.isnull().sum() > (len(Engine)*0.3)"
   ]
  },
  {
   "cell_type": "code",
   "execution_count": 61,
   "metadata": {},
   "outputs": [
    {
     "data": {
      "text/plain": [
       "0"
      ]
     },
     "execution_count": 61,
     "metadata": {},
     "output_type": "execute_result"
    }
   ],
   "source": [
    "#Check duplicate records\n",
    "\n",
    "Engine.duplicated().sum()"
   ]
  },
  {
   "cell_type": "code",
   "execution_count": 62,
   "metadata": {
    "collapsed": true
   },
   "outputs": [],
   "source": [
    "import numpy as np\n",
    "import matplotlib.pyplot as plt\n",
    "import seaborn as sns; sns.set()"
   ]
  },
  {
   "cell_type": "code",
   "execution_count": 63,
   "metadata": {
    "collapsed": true
   },
   "outputs": [],
   "source": [
    "import warnings\n",
    "import math"
   ]
  },
  {
   "cell_type": "code",
   "execution_count": 64,
   "metadata": {
    "collapsed": true
   },
   "outputs": [],
   "source": [
    "Engine.columns = [c.replace(' ', '_') for c in Engine.columns]"
   ]
  },
  {
   "cell_type": "code",
   "execution_count": 65,
   "metadata": {
    "collapsed": true
   },
   "outputs": [],
   "source": [
    "newdf=Engine.drop(['ID'],axis=1)"
   ]
  },
  {
   "cell_type": "code",
   "execution_count": 66,
   "metadata": {
    "collapsed": true
   },
   "outputs": [],
   "source": [
    "num_df = Engine.select_dtypes(include=['float64','int64']).copy()"
   ]
  },
  {
   "cell_type": "code",
   "execution_count": 67,
   "metadata": {
    "collapsed": true
   },
   "outputs": [],
   "source": [
    "cat_df = Engine.select_dtypes(include=['object'])"
   ]
  },
  {
   "cell_type": "code",
   "execution_count": 68,
   "metadata": {
    "collapsed": true
   },
   "outputs": [],
   "source": [
    "num_df=num_df.fillna(num_df.mean(), inplace=True).copy()"
   ]
  },
  {
   "cell_type": "code",
   "execution_count": 69,
   "metadata": {},
   "outputs": [
    {
     "name": "stderr",
     "output_type": "stream",
     "text": [
      "/Users/abhilash/anaconda/lib/python3.6/site-packages/pandas/core/generic.py:3549: SettingWithCopyWarning: \n",
      "A value is trying to be set on a copy of a slice from a DataFrame\n",
      "\n",
      "See the caveats in the documentation: http://pandas.pydata.org/pandas-docs/stable/indexing.html#indexing-view-versus-copy\n",
      "  self._update_inplace(new_data)\n"
     ]
    }
   ],
   "source": [
    "for column in cat_df.columns:\n",
    "    cat_df[column].fillna(cat_df[column].mode()[0], inplace=True)"
   ]
  },
  {
   "cell_type": "code",
   "execution_count": 70,
   "metadata": {},
   "outputs": [
    {
     "data": {
      "text/plain": [
       "Index(['y', 'material_grade', 'Lubrication', 'Valve_Type', 'Bearing_Vendor',\n",
       "       'Fuel_Type', 'Compression_ratio', 'cam_arrangement',\n",
       "       'Cylinder_arragement', 'Turbocharger', 'Varaible_Valve_Timing_(VVT)',\n",
       "       'Cylinder_deactivation', 'Direct_injection', 'main_bearing_type',\n",
       "       'displacement', 'piston_type', 'Max._Torque', 'Peak_Power',\n",
       "       'Crankshaft_Design', 'Liner_Design_'],\n",
       "      dtype='object')"
      ]
     },
     "execution_count": 70,
     "metadata": {},
     "output_type": "execute_result"
    }
   ],
   "source": [
    "cat_df.columns"
   ]
  },
  {
   "cell_type": "code",
   "execution_count": 71,
   "metadata": {
    "collapsed": true
   },
   "outputs": [],
   "source": [
    "num_df=num_df.round().astype('int')"
   ]
  },
  {
   "cell_type": "code",
   "execution_count": 72,
   "metadata": {},
   "outputs": [
    {
     "data": {
      "text/plain": [
       "array([6, 4, 8])"
      ]
     },
     "execution_count": 72,
     "metadata": {},
     "output_type": "execute_result"
    }
   ],
   "source": [
    "pd.unique(num_df.Number_of_Cylinders)"
   ]
  },
  {
   "cell_type": "code",
   "execution_count": null,
   "metadata": {
    "collapsed": true
   },
   "outputs": [],
   "source": []
  },
  {
   "cell_type": "code",
   "execution_count": 73,
   "metadata": {},
   "outputs": [
    {
     "name": "stderr",
     "output_type": "stream",
     "text": [
      "/Users/abhilash/anaconda/lib/python3.6/site-packages/ipykernel_launcher.py:2: SettingWithCopyWarning: \n",
      "A value is trying to be set on a copy of a slice from a DataFrame.\n",
      "Try using .loc[row_indexer,col_indexer] = value instead\n",
      "\n",
      "See the caveats in the documentation: http://pandas.pydata.org/pandas-docs/stable/indexing.html#indexing-view-versus-copy\n",
      "  \n",
      "/Users/abhilash/anaconda/lib/python3.6/site-packages/ipykernel_launcher.py:3: SettingWithCopyWarning: \n",
      "A value is trying to be set on a copy of a slice from a DataFrame.\n",
      "Try using .loc[row_indexer,col_indexer] = value instead\n",
      "\n",
      "See the caveats in the documentation: http://pandas.pydata.org/pandas-docs/stable/indexing.html#indexing-view-versus-copy\n",
      "  This is separate from the ipykernel package so we can avoid doing imports until\n",
      "/Users/abhilash/anaconda/lib/python3.6/site-packages/ipykernel_launcher.py:4: SettingWithCopyWarning: \n",
      "A value is trying to be set on a copy of a slice from a DataFrame.\n",
      "Try using .loc[row_indexer,col_indexer] = value instead\n",
      "\n",
      "See the caveats in the documentation: http://pandas.pydata.org/pandas-docs/stable/indexing.html#indexing-view-versus-copy\n",
      "  after removing the cwd from sys.path.\n"
     ]
    }
   ],
   "source": [
    "for col in cat_df :\n",
    "    cat_df[col] = cat_df[col].astype('category')\n",
    "    cat_df[col] = cat_df[col].cat.codes\n",
    "    cat_df[col] = cat_df[col].astype('category')"
   ]
  },
  {
   "cell_type": "code",
   "execution_count": null,
   "metadata": {
    "collapsed": true
   },
   "outputs": [],
   "source": []
  },
  {
   "cell_type": "markdown",
   "metadata": {},
   "source": [
    "cat_df.head"
   ]
  },
  {
   "cell_type": "code",
   "execution_count": 74,
   "metadata": {},
   "outputs": [
    {
     "data": {
      "text/plain": [
       "y                              category\n",
       "material_grade                 category\n",
       "Lubrication                    category\n",
       "Valve_Type                     category\n",
       "Bearing_Vendor                 category\n",
       "Fuel_Type                      category\n",
       "Compression_ratio              category\n",
       "cam_arrangement                category\n",
       "Cylinder_arragement            category\n",
       "Turbocharger                   category\n",
       "Varaible_Valve_Timing_(VVT)    category\n",
       "Cylinder_deactivation          category\n",
       "Direct_injection               category\n",
       "main_bearing_type              category\n",
       "displacement                   category\n",
       "piston_type                    category\n",
       "Max._Torque                    category\n",
       "Peak_Power                     category\n",
       "Crankshaft_Design              category\n",
       "Liner_Design_                  category\n",
       "dtype: object"
      ]
     },
     "execution_count": 74,
     "metadata": {},
     "output_type": "execute_result"
    }
   ],
   "source": [
    "cat_df.dtypes"
   ]
  },
  {
   "cell_type": "code",
   "execution_count": 75,
   "metadata": {
    "collapsed": true
   },
   "outputs": [],
   "source": [
    "daata= pd.concat([num_df,cat_df],axis=1)"
   ]
  },
  {
   "cell_type": "code",
   "execution_count": 76,
   "metadata": {},
   "outputs": [
    {
     "data": {
      "text/plain": [
       "ID                                int64\n",
       "Number_of_Cylinders               int64\n",
       "y                              category\n",
       "material_grade                 category\n",
       "Lubrication                    category\n",
       "Valve_Type                     category\n",
       "Bearing_Vendor                 category\n",
       "Fuel_Type                      category\n",
       "Compression_ratio              category\n",
       "cam_arrangement                category\n",
       "Cylinder_arragement            category\n",
       "Turbocharger                   category\n",
       "Varaible_Valve_Timing_(VVT)    category\n",
       "Cylinder_deactivation          category\n",
       "Direct_injection               category\n",
       "main_bearing_type              category\n",
       "displacement                   category\n",
       "piston_type                    category\n",
       "Max._Torque                    category\n",
       "Peak_Power                     category\n",
       "Crankshaft_Design              category\n",
       "Liner_Design_                  category\n",
       "dtype: object"
      ]
     },
     "execution_count": 76,
     "metadata": {},
     "output_type": "execute_result"
    }
   ],
   "source": [
    "daata.dtypes"
   ]
  },
  {
   "cell_type": "code",
   "execution_count": 77,
   "metadata": {
    "collapsed": true
   },
   "outputs": [],
   "source": [
    "import numpy as np\n",
    "\n",
    "daata['TestA'] = daata.ID.isin(add_data.TestA).astype(np.int64)"
   ]
  },
  {
   "cell_type": "code",
   "execution_count": 78,
   "metadata": {
    "collapsed": true
   },
   "outputs": [],
   "source": [
    "import numpy as np\n",
    "\n",
    "daata['TestB'] = daata.ID.isin(add_data.TestB).astype(np.int64)"
   ]
  },
  {
   "cell_type": "code",
   "execution_count": 79,
   "metadata": {
    "collapsed": true
   },
   "outputs": [],
   "source": [
    "daata['TestA']= daata['TestA'].astype('category')\n",
    "daata['TestB']= daata['TestB'].astype('category')"
   ]
  },
  {
   "cell_type": "code",
   "execution_count": 80,
   "metadata": {},
   "outputs": [
    {
     "data": {
      "text/plain": [
       "ID                                int64\n",
       "Number_of_Cylinders               int64\n",
       "y                              category\n",
       "material_grade                 category\n",
       "Lubrication                    category\n",
       "Valve_Type                     category\n",
       "Bearing_Vendor                 category\n",
       "Fuel_Type                      category\n",
       "Compression_ratio              category\n",
       "cam_arrangement                category\n",
       "Cylinder_arragement            category\n",
       "Turbocharger                   category\n",
       "Varaible_Valve_Timing_(VVT)    category\n",
       "Cylinder_deactivation          category\n",
       "Direct_injection               category\n",
       "main_bearing_type              category\n",
       "displacement                   category\n",
       "piston_type                    category\n",
       "Max._Torque                    category\n",
       "Peak_Power                     category\n",
       "Crankshaft_Design              category\n",
       "Liner_Design_                  category\n",
       "TestA                          category\n",
       "TestB                          category\n",
       "dtype: object"
      ]
     },
     "execution_count": 80,
     "metadata": {},
     "output_type": "execute_result"
    }
   ],
   "source": [
    "daata.dtypes"
   ]
  },
  {
   "cell_type": "code",
   "execution_count": 81,
   "metadata": {},
   "outputs": [
    {
     "data": {
      "text/html": [
       "<div>\n",
       "<style>\n",
       "    .dataframe thead tr:only-child th {\n",
       "        text-align: right;\n",
       "    }\n",
       "\n",
       "    .dataframe thead th {\n",
       "        text-align: left;\n",
       "    }\n",
       "\n",
       "    .dataframe tbody tr th {\n",
       "        vertical-align: top;\n",
       "    }\n",
       "</style>\n",
       "<table border=\"1\" class=\"dataframe\">\n",
       "  <thead>\n",
       "    <tr style=\"text-align: right;\">\n",
       "      <th></th>\n",
       "      <th>ID</th>\n",
       "      <th>Number_of_Cylinders</th>\n",
       "      <th>y</th>\n",
       "      <th>material_grade</th>\n",
       "      <th>Lubrication</th>\n",
       "      <th>Valve_Type</th>\n",
       "      <th>Bearing_Vendor</th>\n",
       "      <th>Fuel_Type</th>\n",
       "      <th>Compression_ratio</th>\n",
       "      <th>cam_arrangement</th>\n",
       "      <th>Cylinder_arragement</th>\n",
       "      <th>Turbocharger</th>\n",
       "      <th>Varaible_Valve_Timing_(VVT)</th>\n",
       "      <th>Cylinder_deactivation</th>\n",
       "      <th>Direct_injection</th>\n",
       "      <th>main_bearing_type</th>\n",
       "      <th>displacement</th>\n",
       "      <th>piston_type</th>\n",
       "      <th>Max._Torque</th>\n",
       "      <th>Peak_Power</th>\n",
       "      <th>Crankshaft_Design</th>\n",
       "      <th>Liner_Design_</th>\n",
       "      <th>TestA</th>\n",
       "      <th>TestB</th>\n",
       "    </tr>\n",
       "  </thead>\n",
       "  <tbody>\n",
       "    <tr>\n",
       "      <th>0</th>\n",
       "      <td>1</td>\n",
       "      <td>6</td>\n",
       "      <td>1</td>\n",
       "      <td>0</td>\n",
       "      <td>3</td>\n",
       "      <td>2</td>\n",
       "      <td>3</td>\n",
       "      <td>0</td>\n",
       "      <td>1</td>\n",
       "      <td>1</td>\n",
       "      <td>1</td>\n",
       "      <td>1</td>\n",
       "      <td>1</td>\n",
       "      <td>0</td>\n",
       "      <td>1</td>\n",
       "      <td>1</td>\n",
       "      <td>0</td>\n",
       "      <td>0</td>\n",
       "      <td>0</td>\n",
       "      <td>0</td>\n",
       "      <td>1</td>\n",
       "      <td>0</td>\n",
       "      <td>1</td>\n",
       "      <td>1</td>\n",
       "    </tr>\n",
       "    <tr>\n",
       "      <th>1</th>\n",
       "      <td>2</td>\n",
       "      <td>6</td>\n",
       "      <td>0</td>\n",
       "      <td>1</td>\n",
       "      <td>3</td>\n",
       "      <td>2</td>\n",
       "      <td>2</td>\n",
       "      <td>0</td>\n",
       "      <td>0</td>\n",
       "      <td>1</td>\n",
       "      <td>1</td>\n",
       "      <td>1</td>\n",
       "      <td>1</td>\n",
       "      <td>0</td>\n",
       "      <td>1</td>\n",
       "      <td>1</td>\n",
       "      <td>0</td>\n",
       "      <td>0</td>\n",
       "      <td>0</td>\n",
       "      <td>0</td>\n",
       "      <td>0</td>\n",
       "      <td>0</td>\n",
       "      <td>1</td>\n",
       "      <td>0</td>\n",
       "    </tr>\n",
       "  </tbody>\n",
       "</table>\n",
       "</div>"
      ],
      "text/plain": [
       "   ID  Number_of_Cylinders  y material_grade Lubrication Valve_Type  \\\n",
       "0   1                    6  1              0           3          2   \n",
       "1   2                    6  0              1           3          2   \n",
       "\n",
       "  Bearing_Vendor Fuel_Type Compression_ratio cam_arrangement  \\\n",
       "0              3         0                 1               1   \n",
       "1              2         0                 0               1   \n",
       "\n",
       "  Cylinder_arragement Turbocharger Varaible_Valve_Timing_(VVT)  \\\n",
       "0                   1            1                           1   \n",
       "1                   1            1                           1   \n",
       "\n",
       "  Cylinder_deactivation Direct_injection main_bearing_type displacement  \\\n",
       "0                     0                1                 1            0   \n",
       "1                     0                1                 1            0   \n",
       "\n",
       "  piston_type Max._Torque Peak_Power Crankshaft_Design Liner_Design_ TestA  \\\n",
       "0           0           0          0                 1             0     1   \n",
       "1           0           0          0                 0             0     1   \n",
       "\n",
       "  TestB  \n",
       "0     1  \n",
       "1     0  "
      ]
     },
     "execution_count": 81,
     "metadata": {},
     "output_type": "execute_result"
    }
   ],
   "source": [
    "daata.head(2)"
   ]
  },
  {
   "cell_type": "code",
   "execution_count": 82,
   "metadata": {
    "collapsed": true
   },
   "outputs": [],
   "source": [
    "daata = daata.rename(columns = {\"Varaible_Valve_Timing_(VVT)\":\"Varaible_Valve_Timing\"})"
   ]
  },
  {
   "cell_type": "code",
   "execution_count": 83,
   "metadata": {
    "collapsed": true
   },
   "outputs": [],
   "source": [
    "daata = daata.rename(columns = {\"Max._Torque\":\"Max_Torque\"})"
   ]
  },
  {
   "cell_type": "code",
   "execution_count": 84,
   "metadata": {
    "collapsed": true
   },
   "outputs": [],
   "source": [
    "pd.set_option('display.max_columns', 500)"
   ]
  },
  {
   "cell_type": "code",
   "execution_count": 85,
   "metadata": {
    "collapsed": true
   },
   "outputs": [],
   "source": [
    "fdata=daata.drop('ID',axis=1)"
   ]
  },
  {
   "cell_type": "code",
   "execution_count": 128,
   "metadata": {
    "collapsed": true
   },
   "outputs": [],
   "source": [
    "fdata.to_csv('DATA.csv')"
   ]
  },
  {
   "cell_type": "code",
   "execution_count": 86,
   "metadata": {
    "collapsed": true
   },
   "outputs": [],
   "source": [
    "train_data = fdata[['Number_of_Cylinders', 'y', 'material_grade', 'Lubrication',\n",
    "       'Valve_Type', 'Bearing_Vendor', 'Fuel_Type', 'Compression_ratio',\n",
    "       'cam_arrangement', 'Cylinder_arragement', 'Turbocharger',\n",
    "       'Varaible_Valve_Timing', 'Cylinder_deactivation',\n",
    "       'Direct_injection', 'main_bearing_type', 'displacement', 'piston_type',\n",
    "       'Max_Torque', 'Peak_Power', 'Crankshaft_Design', 'Liner_Design_',\n",
    "       'TestA', 'TestB']]"
   ]
  },
  {
   "cell_type": "code",
   "execution_count": 87,
   "metadata": {
    "collapsed": true
   },
   "outputs": [],
   "source": [
    "from sklearn.cross_validation import train_test_split\n",
    "\n",
    "feature_cols = ['Number_of_Cylinders', 'material_grade', 'Lubrication',\n",
    "       'Valve_Type', 'Bearing_Vendor', 'Fuel_Type', 'Compression_ratio',\n",
    "       'cam_arrangement', 'Cylinder_arragement', 'Turbocharger',\n",
    "       'Varaible_Valve_Timing', 'Cylinder_deactivation',\n",
    "       'Direct_injection', 'main_bearing_type', 'displacement', 'piston_type',\n",
    "       'Max_Torque', 'Peak_Power', 'Crankshaft_Design', 'Liner_Design_',\n",
    "       'TestA', 'TestB']\n",
    "X = train_data[feature_cols]\n",
    "y = train_data.y\n",
    "X_train, X_validation, y_train, y_validation = train_test_split(X, y, random_state=4)"
   ]
  },
  {
   "cell_type": "code",
   "execution_count": 88,
   "metadata": {},
   "outputs": [
    {
     "data": {
      "text/plain": [
       "Number_of_Cylinders      0\n",
       "y                        0\n",
       "material_grade           0\n",
       "Lubrication              0\n",
       "Valve_Type               0\n",
       "Bearing_Vendor           0\n",
       "Fuel_Type                0\n",
       "Compression_ratio        0\n",
       "cam_arrangement          0\n",
       "Cylinder_arragement      0\n",
       "Turbocharger             0\n",
       "Varaible_Valve_Timing    0\n",
       "Cylinder_deactivation    0\n",
       "Direct_injection         0\n",
       "main_bearing_type        0\n",
       "displacement             0\n",
       "piston_type              0\n",
       "Max_Torque               0\n",
       "Peak_Power               0\n",
       "Crankshaft_Design        0\n",
       "Liner_Design_            0\n",
       "TestA                    0\n",
       "TestB                    0\n",
       "dtype: int64"
      ]
     },
     "execution_count": 88,
     "metadata": {},
     "output_type": "execute_result"
    }
   ],
   "source": [
    "fdata.isnull().sum()"
   ]
  },
  {
   "cell_type": "markdown",
   "metadata": {
    "collapsed": true
   },
   "source": []
  },
  {
   "cell_type": "code",
   "execution_count": 89,
   "metadata": {},
   "outputs": [
    {
     "data": {
      "text/plain": [
       "Number_of_Cylinders         int64\n",
       "y                        category\n",
       "material_grade           category\n",
       "Lubrication              category\n",
       "Valve_Type               category\n",
       "Bearing_Vendor           category\n",
       "Fuel_Type                category\n",
       "Compression_ratio        category\n",
       "cam_arrangement          category\n",
       "Cylinder_arragement      category\n",
       "Turbocharger             category\n",
       "Varaible_Valve_Timing    category\n",
       "Cylinder_deactivation    category\n",
       "Direct_injection         category\n",
       "main_bearing_type        category\n",
       "displacement             category\n",
       "piston_type              category\n",
       "Max_Torque               category\n",
       "Peak_Power               category\n",
       "Crankshaft_Design        category\n",
       "Liner_Design_            category\n",
       "TestA                    category\n",
       "TestB                    category\n",
       "dtype: object"
      ]
     },
     "execution_count": 89,
     "metadata": {},
     "output_type": "execute_result"
    }
   ],
   "source": [
    "train_data.dtypes"
   ]
  },
  {
   "cell_type": "markdown",
   "metadata": {},
   "source": [
    "# SVM MODEL "
   ]
  },
  {
   "cell_type": "code",
   "execution_count": 90,
   "metadata": {},
   "outputs": [
    {
     "data": {
      "text/plain": [
       "SVC(C=1.0, cache_size=200, class_weight=None, coef0=0.0,\n",
       "  decision_function_shape=None, degree=3, gamma='auto', kernel='linear',\n",
       "  max_iter=-1, probability=False, random_state=None, shrinking=True,\n",
       "  tol=0.001, verbose=False)"
      ]
     },
     "execution_count": 90,
     "metadata": {},
     "output_type": "execute_result"
    }
   ],
   "source": [
    "\n",
    "from sklearn import svm\n",
    "\n",
    "model = svm.SVC(kernel = 'linear')\n",
    "model.fit(X_train,y_train)"
   ]
  },
  {
   "cell_type": "code",
   "execution_count": 91,
   "metadata": {
    "collapsed": true
   },
   "outputs": [],
   "source": [
    "# Use the svm's predict method on the test data\n",
    "y_pred_validation = model.predict(X_validation)"
   ]
  },
  {
   "cell_type": "code",
   "execution_count": 92,
   "metadata": {},
   "outputs": [
    {
     "name": "stdout",
     "output_type": "stream",
     "text": [
      "0.850443599493\n"
     ]
    }
   ],
   "source": [
    "# calculate accuracy\n",
    "from sklearn import metrics\n",
    "print(metrics.accuracy_score(y_validation, y_pred_validation))"
   ]
  },
  {
   "cell_type": "markdown",
   "metadata": {},
   "source": [
    "# Test data pre processing "
   ]
  },
  {
   "cell_type": "code",
   "execution_count": 93,
   "metadata": {
    "collapsed": true
   },
   "outputs": [],
   "source": [
    "tdata = pd.read_csv('Test 2.csv')"
   ]
  },
  {
   "cell_type": "code",
   "execution_count": 94,
   "metadata": {},
   "outputs": [
    {
     "data": {
      "text/plain": [
       "(1053, 21)"
      ]
     },
     "execution_count": 94,
     "metadata": {},
     "output_type": "execute_result"
    }
   ],
   "source": [
    "tdata.shape"
   ]
  },
  {
   "cell_type": "code",
   "execution_count": 95,
   "metadata": {},
   "outputs": [
    {
     "name": "stdout",
     "output_type": "stream",
     "text": [
      "ID                              0\n",
      "Number of Cylinders            53\n",
      "material grade                 53\n",
      "Lubrication                    53\n",
      "Valve Type                     53\n",
      "Bearing Vendor                 53\n",
      "Fuel Type                      53\n",
      "Compression ratio              53\n",
      "cam arrangement                53\n",
      "Cylinder arragement            53\n",
      "Turbocharger                   53\n",
      "Varaible Valve Timing (VVT)    53\n",
      "Cylinder deactivation          53\n",
      "Direct injection               53\n",
      "main bearing type              53\n",
      "displacement                   53\n",
      "piston type                    53\n",
      "Max. Torque                    53\n",
      "Peak Power                     53\n",
      "Crankshaft Design              53\n",
      "Liner Design                   53\n",
      "dtype: int64\n"
     ]
    }
   ],
   "source": [
    "print(tdata.isnull().sum())"
   ]
  },
  {
   "cell_type": "code",
   "execution_count": 96,
   "metadata": {
    "collapsed": true
   },
   "outputs": [],
   "source": [
    "import numpy as np\n",
    "import matplotlib.pyplot as plt\n",
    "import seaborn as sns; sns.set()"
   ]
  },
  {
   "cell_type": "code",
   "execution_count": 97,
   "metadata": {
    "collapsed": true
   },
   "outputs": [],
   "source": [
    "import warnings\n",
    "import math"
   ]
  },
  {
   "cell_type": "code",
   "execution_count": 98,
   "metadata": {
    "collapsed": true
   },
   "outputs": [],
   "source": [
    "tdata.columns = [c.replace(' ', '_') for c in tdata.columns]"
   ]
  },
  {
   "cell_type": "code",
   "execution_count": 99,
   "metadata": {
    "collapsed": true
   },
   "outputs": [],
   "source": [
    "num_tdf = tdata.select_dtypes(include=['float64','int64']).copy()"
   ]
  },
  {
   "cell_type": "code",
   "execution_count": 100,
   "metadata": {
    "collapsed": true
   },
   "outputs": [],
   "source": [
    "cat_tdf = tdata.select_dtypes(include=['object']).copy()"
   ]
  },
  {
   "cell_type": "code",
   "execution_count": 101,
   "metadata": {
    "collapsed": true
   },
   "outputs": [],
   "source": [
    "num_tdf=num_tdf.fillna(num_tdf.mean(), inplace=True).copy()"
   ]
  },
  {
   "cell_type": "code",
   "execution_count": 167,
   "metadata": {
    "collapsed": true
   },
   "outputs": [],
   "source": [
    "num_tdf=num_tdf.round().astype('int')"
   ]
  },
  {
   "cell_type": "code",
   "execution_count": 168,
   "metadata": {},
   "outputs": [
    {
     "data": {
      "text/plain": [
       "material_grade                 object\n",
       "Lubrication                    object\n",
       "Valve_Type                     object\n",
       "Bearing_Vendor                 object\n",
       "Fuel_Type                      object\n",
       "Compression_ratio              object\n",
       "cam_arrangement                object\n",
       "Cylinder_arragement            object\n",
       "Turbocharger                   object\n",
       "Varaible_Valve_Timing_(VVT)    object\n",
       "Cylinder_deactivation          object\n",
       "Direct_injection               object\n",
       "main_bearing_type              object\n",
       "displacement                   object\n",
       "piston_type                    object\n",
       "Max._Torque                    object\n",
       "Peak_Power                     object\n",
       "Crankshaft_Design              object\n",
       "Liner_Design_                  object\n",
       "dtype: object"
      ]
     },
     "execution_count": 168,
     "metadata": {},
     "output_type": "execute_result"
    }
   ],
   "source": [
    "cat_tdf.dtypes"
   ]
  },
  {
   "cell_type": "code",
   "execution_count": 169,
   "metadata": {
    "collapsed": true
   },
   "outputs": [],
   "source": [
    "for column in cat_tdf.columns:\n",
    "    cat_tdf[column].fillna(cat_tdf[column].mode()[0], inplace=True)"
   ]
  },
  {
   "cell_type": "code",
   "execution_count": 170,
   "metadata": {
    "collapsed": true
   },
   "outputs": [],
   "source": [
    "Atdata= pd.read_csv(\"Test_AdditionalData.csv\")"
   ]
  },
  {
   "cell_type": "code",
   "execution_count": 171,
   "metadata": {
    "collapsed": true
   },
   "outputs": [],
   "source": [
    "tdata=pd.concat([num_tdf,cat_tdf],axis=1)"
   ]
  },
  {
   "cell_type": "code",
   "execution_count": 172,
   "metadata": {
    "scrolled": true
   },
   "outputs": [
    {
     "data": {
      "text/plain": [
       "Index(['ID', 'Number_of_Cylinders', 'material_grade', 'Lubrication',\n",
       "       'Valve_Type', 'Bearing_Vendor', 'Fuel_Type', 'Compression_ratio',\n",
       "       'cam_arrangement', 'Cylinder_arragement', 'Turbocharger',\n",
       "       'Varaible_Valve_Timing_(VVT)', 'Cylinder_deactivation',\n",
       "       'Direct_injection', 'main_bearing_type', 'displacement', 'piston_type',\n",
       "       'Max._Torque', 'Peak_Power', 'Crankshaft_Design', 'Liner_Design_'],\n",
       "      dtype='object')"
      ]
     },
     "execution_count": 172,
     "metadata": {},
     "output_type": "execute_result"
    }
   ],
   "source": [
    "tdata.columns"
   ]
  },
  {
   "cell_type": "code",
   "execution_count": null,
   "metadata": {
    "collapsed": true
   },
   "outputs": [],
   "source": []
  },
  {
   "cell_type": "code",
   "execution_count": 173,
   "metadata": {
    "collapsed": true
   },
   "outputs": [],
   "source": [
    "tdata = tdata.rename(columns = {\"Varaible_Valve_Timing_(VVT)\":\"Varaible_Valve_Timing\"})"
   ]
  },
  {
   "cell_type": "code",
   "execution_count": 174,
   "metadata": {
    "collapsed": true
   },
   "outputs": [],
   "source": [
    "tdata = tdata.rename(columns = {\"Max._Torque\":\"Max_Torque\"})"
   ]
  },
  {
   "cell_type": "code",
   "execution_count": 175,
   "metadata": {
    "collapsed": true
   },
   "outputs": [],
   "source": [
    "import numpy as np\n",
    "\n",
    "tdata['TestA'] = tdata.ID.isin(Atdata.TestA).astype(np.int64)"
   ]
  },
  {
   "cell_type": "code",
   "execution_count": 176,
   "metadata": {
    "collapsed": true
   },
   "outputs": [],
   "source": [
    "import numpy as np\n",
    "\n",
    "tdata['TestB'] = tdata.ID.isin(Atdata.TestB).astype(np.int64)"
   ]
  },
  {
   "cell_type": "code",
   "execution_count": 177,
   "metadata": {
    "collapsed": true
   },
   "outputs": [],
   "source": [
    "tdata['TestA']= tdata['TestA'].astype('category')\n",
    "tdata['TestB']= tdata['TestB'].astype('category')"
   ]
  },
  {
   "cell_type": "code",
   "execution_count": 178,
   "metadata": {},
   "outputs": [
    {
     "data": {
      "text/plain": [
       "Index(['ID', 'Number_of_Cylinders', 'material_grade', 'Lubrication',\n",
       "       'Valve_Type', 'Bearing_Vendor', 'Fuel_Type', 'Compression_ratio',\n",
       "       'cam_arrangement', 'Cylinder_arragement', 'Turbocharger',\n",
       "       'Varaible_Valve_Timing', 'Cylinder_deactivation', 'Direct_injection',\n",
       "       'main_bearing_type', 'displacement', 'piston_type', 'Max_Torque',\n",
       "       'Peak_Power', 'Crankshaft_Design', 'Liner_Design_', 'TestA', 'TestB'],\n",
       "      dtype='object')"
      ]
     },
     "execution_count": 178,
     "metadata": {},
     "output_type": "execute_result"
    }
   ],
   "source": [
    "tdata.columns"
   ]
  },
  {
   "cell_type": "code",
   "execution_count": 179,
   "metadata": {},
   "outputs": [
    {
     "data": {
      "text/plain": [
       "ID                          int64\n",
       "Number_of_Cylinders         int64\n",
       "material_grade             object\n",
       "Lubrication                object\n",
       "Valve_Type                 object\n",
       "Bearing_Vendor             object\n",
       "Fuel_Type                  object\n",
       "Compression_ratio          object\n",
       "cam_arrangement            object\n",
       "Cylinder_arragement        object\n",
       "Turbocharger               object\n",
       "Varaible_Valve_Timing      object\n",
       "Cylinder_deactivation      object\n",
       "Direct_injection           object\n",
       "main_bearing_type          object\n",
       "displacement               object\n",
       "piston_type                object\n",
       "Max_Torque                 object\n",
       "Peak_Power                 object\n",
       "Crankshaft_Design          object\n",
       "Liner_Design_              object\n",
       "TestA                    category\n",
       "TestB                    category\n",
       "dtype: object"
      ]
     },
     "execution_count": 179,
     "metadata": {},
     "output_type": "execute_result"
    }
   ],
   "source": [
    "tdata.dtypes"
   ]
  },
  {
   "cell_type": "code",
   "execution_count": 180,
   "metadata": {
    "collapsed": true
   },
   "outputs": [],
   "source": [
    "testdata=tdata.drop('ID',axis=1)"
   ]
  },
  {
   "cell_type": "code",
   "execution_count": 181,
   "metadata": {
    "collapsed": true
   },
   "outputs": [],
   "source": [
    "cols = [ 'material_grade', 'Lubrication',\n",
    "       'Valve_Type', 'Bearing_Vendor', 'Fuel_Type', 'Compression_ratio',\n",
    "       'cam_arrangement', 'Cylinder_arragement', 'Turbocharger',\n",
    "       'Varaible_Valve_Timing', 'Cylinder_deactivation', 'Direct_injection',\n",
    "       'main_bearing_type', 'displacement', 'piston_type', 'Max_Torque',\n",
    "       'Peak_Power', 'Crankshaft_Design', 'Liner_Design_']"
   ]
  },
  {
   "cell_type": "code",
   "execution_count": 182,
   "metadata": {
    "collapsed": true
   },
   "outputs": [],
   "source": [
    "for col in cols :\n",
    "    testdata[col] = testdata[col].astype('category')\n",
    "    testdata[col] = testdata[col].cat.codes\n",
    "    testdata[col] = testdata[col].astype('category')"
   ]
  },
  {
   "cell_type": "code",
   "execution_count": 183,
   "metadata": {},
   "outputs": [
    {
     "data": {
      "text/plain": [
       "Number_of_Cylinders         int64\n",
       "material_grade           category\n",
       "Lubrication              category\n",
       "Valve_Type               category\n",
       "Bearing_Vendor           category\n",
       "Fuel_Type                category\n",
       "Compression_ratio        category\n",
       "cam_arrangement          category\n",
       "Cylinder_arragement      category\n",
       "Turbocharger             category\n",
       "Varaible_Valve_Timing    category\n",
       "Cylinder_deactivation    category\n",
       "Direct_injection         category\n",
       "main_bearing_type        category\n",
       "displacement             category\n",
       "piston_type              category\n",
       "Max_Torque               category\n",
       "Peak_Power               category\n",
       "Crankshaft_Design        category\n",
       "Liner_Design_            category\n",
       "TestA                    category\n",
       "TestB                    category\n",
       "dtype: object"
      ]
     },
     "execution_count": 183,
     "metadata": {},
     "output_type": "execute_result"
    }
   ],
   "source": [
    "testdata.dtypes"
   ]
  },
  {
   "cell_type": "code",
   "execution_count": 184,
   "metadata": {
    "collapsed": true
   },
   "outputs": [],
   "source": [
    "ypred_test=model.predict(testdata)"
   ]
  },
  {
   "cell_type": "code",
   "execution_count": 185,
   "metadata": {
    "collapsed": true
   },
   "outputs": [],
   "source": [
    "def coding(col, codeDict):\n",
    "  colCoded = pd.Series(col, copy=True)\n",
    "  for key, value in codeDict.items():\n",
    "    colCoded.replace(key, value, inplace=True)\n",
    "  return colCoded"
   ]
  },
  {
   "cell_type": "code",
   "execution_count": 186,
   "metadata": {
    "collapsed": true
   },
   "outputs": [],
   "source": [
    "tpreds = coding(ypred_test, {1:'pass',0:'fail'})"
   ]
  },
  {
   "cell_type": "code",
   "execution_count": 187,
   "metadata": {},
   "outputs": [
    {
     "data": {
      "text/plain": [
       "array([1, 0, 1, ..., 0, 1, 0])"
      ]
     },
     "execution_count": 187,
     "metadata": {},
     "output_type": "execute_result"
    }
   ],
   "source": [
    "ypred_test"
   ]
  },
  {
   "cell_type": "code",
   "execution_count": 188,
   "metadata": {
    "collapsed": true
   },
   "outputs": [],
   "source": [
    "tpred = pd.DataFrame(tpreds,columns=['y'])"
   ]
  },
  {
   "cell_type": "code",
   "execution_count": 189,
   "metadata": {},
   "outputs": [
    {
     "data": {
      "text/html": [
       "<div>\n",
       "<style>\n",
       "    .dataframe thead tr:only-child th {\n",
       "        text-align: right;\n",
       "    }\n",
       "\n",
       "    .dataframe thead th {\n",
       "        text-align: left;\n",
       "    }\n",
       "\n",
       "    .dataframe tbody tr th {\n",
       "        vertical-align: top;\n",
       "    }\n",
       "</style>\n",
       "<table border=\"1\" class=\"dataframe\">\n",
       "  <thead>\n",
       "    <tr style=\"text-align: right;\">\n",
       "      <th></th>\n",
       "      <th>y</th>\n",
       "    </tr>\n",
       "  </thead>\n",
       "  <tbody>\n",
       "    <tr>\n",
       "      <th>0</th>\n",
       "      <td>pass</td>\n",
       "    </tr>\n",
       "    <tr>\n",
       "      <th>1</th>\n",
       "      <td>fail</td>\n",
       "    </tr>\n",
       "    <tr>\n",
       "      <th>2</th>\n",
       "      <td>pass</td>\n",
       "    </tr>\n",
       "    <tr>\n",
       "      <th>3</th>\n",
       "      <td>pass</td>\n",
       "    </tr>\n",
       "    <tr>\n",
       "      <th>4</th>\n",
       "      <td>pass</td>\n",
       "    </tr>\n",
       "    <tr>\n",
       "      <th>5</th>\n",
       "      <td>fail</td>\n",
       "    </tr>\n",
       "    <tr>\n",
       "      <th>6</th>\n",
       "      <td>fail</td>\n",
       "    </tr>\n",
       "    <tr>\n",
       "      <th>7</th>\n",
       "      <td>pass</td>\n",
       "    </tr>\n",
       "    <tr>\n",
       "      <th>8</th>\n",
       "      <td>fail</td>\n",
       "    </tr>\n",
       "    <tr>\n",
       "      <th>9</th>\n",
       "      <td>fail</td>\n",
       "    </tr>\n",
       "    <tr>\n",
       "      <th>10</th>\n",
       "      <td>pass</td>\n",
       "    </tr>\n",
       "    <tr>\n",
       "      <th>11</th>\n",
       "      <td>fail</td>\n",
       "    </tr>\n",
       "    <tr>\n",
       "      <th>12</th>\n",
       "      <td>fail</td>\n",
       "    </tr>\n",
       "    <tr>\n",
       "      <th>13</th>\n",
       "      <td>pass</td>\n",
       "    </tr>\n",
       "    <tr>\n",
       "      <th>14</th>\n",
       "      <td>fail</td>\n",
       "    </tr>\n",
       "    <tr>\n",
       "      <th>15</th>\n",
       "      <td>fail</td>\n",
       "    </tr>\n",
       "    <tr>\n",
       "      <th>16</th>\n",
       "      <td>pass</td>\n",
       "    </tr>\n",
       "    <tr>\n",
       "      <th>17</th>\n",
       "      <td>pass</td>\n",
       "    </tr>\n",
       "    <tr>\n",
       "      <th>18</th>\n",
       "      <td>pass</td>\n",
       "    </tr>\n",
       "    <tr>\n",
       "      <th>19</th>\n",
       "      <td>pass</td>\n",
       "    </tr>\n",
       "    <tr>\n",
       "      <th>20</th>\n",
       "      <td>fail</td>\n",
       "    </tr>\n",
       "    <tr>\n",
       "      <th>21</th>\n",
       "      <td>pass</td>\n",
       "    </tr>\n",
       "    <tr>\n",
       "      <th>22</th>\n",
       "      <td>pass</td>\n",
       "    </tr>\n",
       "    <tr>\n",
       "      <th>23</th>\n",
       "      <td>pass</td>\n",
       "    </tr>\n",
       "    <tr>\n",
       "      <th>24</th>\n",
       "      <td>fail</td>\n",
       "    </tr>\n",
       "    <tr>\n",
       "      <th>25</th>\n",
       "      <td>fail</td>\n",
       "    </tr>\n",
       "    <tr>\n",
       "      <th>26</th>\n",
       "      <td>fail</td>\n",
       "    </tr>\n",
       "    <tr>\n",
       "      <th>27</th>\n",
       "      <td>fail</td>\n",
       "    </tr>\n",
       "    <tr>\n",
       "      <th>28</th>\n",
       "      <td>pass</td>\n",
       "    </tr>\n",
       "    <tr>\n",
       "      <th>29</th>\n",
       "      <td>fail</td>\n",
       "    </tr>\n",
       "    <tr>\n",
       "      <th>...</th>\n",
       "      <td>...</td>\n",
       "    </tr>\n",
       "    <tr>\n",
       "      <th>1023</th>\n",
       "      <td>pass</td>\n",
       "    </tr>\n",
       "    <tr>\n",
       "      <th>1024</th>\n",
       "      <td>pass</td>\n",
       "    </tr>\n",
       "    <tr>\n",
       "      <th>1025</th>\n",
       "      <td>fail</td>\n",
       "    </tr>\n",
       "    <tr>\n",
       "      <th>1026</th>\n",
       "      <td>pass</td>\n",
       "    </tr>\n",
       "    <tr>\n",
       "      <th>1027</th>\n",
       "      <td>pass</td>\n",
       "    </tr>\n",
       "    <tr>\n",
       "      <th>1028</th>\n",
       "      <td>fail</td>\n",
       "    </tr>\n",
       "    <tr>\n",
       "      <th>1029</th>\n",
       "      <td>fail</td>\n",
       "    </tr>\n",
       "    <tr>\n",
       "      <th>1030</th>\n",
       "      <td>fail</td>\n",
       "    </tr>\n",
       "    <tr>\n",
       "      <th>1031</th>\n",
       "      <td>pass</td>\n",
       "    </tr>\n",
       "    <tr>\n",
       "      <th>1032</th>\n",
       "      <td>pass</td>\n",
       "    </tr>\n",
       "    <tr>\n",
       "      <th>1033</th>\n",
       "      <td>pass</td>\n",
       "    </tr>\n",
       "    <tr>\n",
       "      <th>1034</th>\n",
       "      <td>fail</td>\n",
       "    </tr>\n",
       "    <tr>\n",
       "      <th>1035</th>\n",
       "      <td>fail</td>\n",
       "    </tr>\n",
       "    <tr>\n",
       "      <th>1036</th>\n",
       "      <td>pass</td>\n",
       "    </tr>\n",
       "    <tr>\n",
       "      <th>1037</th>\n",
       "      <td>fail</td>\n",
       "    </tr>\n",
       "    <tr>\n",
       "      <th>1038</th>\n",
       "      <td>fail</td>\n",
       "    </tr>\n",
       "    <tr>\n",
       "      <th>1039</th>\n",
       "      <td>pass</td>\n",
       "    </tr>\n",
       "    <tr>\n",
       "      <th>1040</th>\n",
       "      <td>fail</td>\n",
       "    </tr>\n",
       "    <tr>\n",
       "      <th>1041</th>\n",
       "      <td>pass</td>\n",
       "    </tr>\n",
       "    <tr>\n",
       "      <th>1042</th>\n",
       "      <td>pass</td>\n",
       "    </tr>\n",
       "    <tr>\n",
       "      <th>1043</th>\n",
       "      <td>pass</td>\n",
       "    </tr>\n",
       "    <tr>\n",
       "      <th>1044</th>\n",
       "      <td>fail</td>\n",
       "    </tr>\n",
       "    <tr>\n",
       "      <th>1045</th>\n",
       "      <td>pass</td>\n",
       "    </tr>\n",
       "    <tr>\n",
       "      <th>1046</th>\n",
       "      <td>pass</td>\n",
       "    </tr>\n",
       "    <tr>\n",
       "      <th>1047</th>\n",
       "      <td>pass</td>\n",
       "    </tr>\n",
       "    <tr>\n",
       "      <th>1048</th>\n",
       "      <td>fail</td>\n",
       "    </tr>\n",
       "    <tr>\n",
       "      <th>1049</th>\n",
       "      <td>pass</td>\n",
       "    </tr>\n",
       "    <tr>\n",
       "      <th>1050</th>\n",
       "      <td>fail</td>\n",
       "    </tr>\n",
       "    <tr>\n",
       "      <th>1051</th>\n",
       "      <td>pass</td>\n",
       "    </tr>\n",
       "    <tr>\n",
       "      <th>1052</th>\n",
       "      <td>fail</td>\n",
       "    </tr>\n",
       "  </tbody>\n",
       "</table>\n",
       "<p>1053 rows × 1 columns</p>\n",
       "</div>"
      ],
      "text/plain": [
       "         y\n",
       "0     pass\n",
       "1     fail\n",
       "2     pass\n",
       "3     pass\n",
       "4     pass\n",
       "5     fail\n",
       "6     fail\n",
       "7     pass\n",
       "8     fail\n",
       "9     fail\n",
       "10    pass\n",
       "11    fail\n",
       "12    fail\n",
       "13    pass\n",
       "14    fail\n",
       "15    fail\n",
       "16    pass\n",
       "17    pass\n",
       "18    pass\n",
       "19    pass\n",
       "20    fail\n",
       "21    pass\n",
       "22    pass\n",
       "23    pass\n",
       "24    fail\n",
       "25    fail\n",
       "26    fail\n",
       "27    fail\n",
       "28    pass\n",
       "29    fail\n",
       "...    ...\n",
       "1023  pass\n",
       "1024  pass\n",
       "1025  fail\n",
       "1026  pass\n",
       "1027  pass\n",
       "1028  fail\n",
       "1029  fail\n",
       "1030  fail\n",
       "1031  pass\n",
       "1032  pass\n",
       "1033  pass\n",
       "1034  fail\n",
       "1035  fail\n",
       "1036  pass\n",
       "1037  fail\n",
       "1038  fail\n",
       "1039  pass\n",
       "1040  fail\n",
       "1041  pass\n",
       "1042  pass\n",
       "1043  pass\n",
       "1044  fail\n",
       "1045  pass\n",
       "1046  pass\n",
       "1047  pass\n",
       "1048  fail\n",
       "1049  pass\n",
       "1050  fail\n",
       "1051  pass\n",
       "1052  fail\n",
       "\n",
       "[1053 rows x 1 columns]"
      ]
     },
     "execution_count": 189,
     "metadata": {},
     "output_type": "execute_result"
    }
   ],
   "source": [
    "tpred"
   ]
  },
  {
   "cell_type": "code",
   "execution_count": 190,
   "metadata": {
    "collapsed": true
   },
   "outputs": [],
   "source": [
    "tpred = tpred.rename(columns = {\"\":\"Varaible_Valve_Timing\"})"
   ]
  },
  {
   "cell_type": "code",
   "execution_count": 191,
   "metadata": {
    "collapsed": true
   },
   "outputs": [],
   "source": [
    "ID = tdata.ID\n",
    "ID = pd.DataFrame(ID,columns=['ID'])"
   ]
  },
  {
   "cell_type": "code",
   "execution_count": 192,
   "metadata": {
    "collapsed": true
   },
   "outputs": [],
   "source": [
    "df = pd.concat([ID,tpred], axis=1)"
   ]
  },
  {
   "cell_type": "code",
   "execution_count": 195,
   "metadata": {
    "collapsed": true
   },
   "outputs": [],
   "source": [
    "df.to_csv('Prediction11.csv')"
   ]
  },
  {
   "cell_type": "code",
   "execution_count": null,
   "metadata": {
    "collapsed": true
   },
   "outputs": [],
   "source": []
  }
 ],
 "metadata": {
  "kernelspec": {
   "display_name": "Python 3",
   "language": "python",
   "name": "python3"
  },
  "language_info": {
   "codemirror_mode": {
    "name": "ipython",
    "version": 3
   },
   "file_extension": ".py",
   "mimetype": "text/x-python",
   "name": "python",
   "nbconvert_exporter": "python",
   "pygments_lexer": "ipython3",
   "version": "3.6.1"
  }
 },
 "nbformat": 4,
 "nbformat_minor": 2
}
